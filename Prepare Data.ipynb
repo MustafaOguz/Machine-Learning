{
 "cells": [
  {
   "cell_type": "markdown",
   "metadata": {},
   "source": [
    "Import the libraries that will be used in the analysis."
   ]
  },
  {
   "cell_type": "code",
   "execution_count": 38,
   "metadata": {
    "collapsed": false
   },
   "outputs": [],
   "source": [
    "#Integer division will return float value\n",
    "from __future__ import division\n",
    "#Import os to set working directory\n",
    "import os as osvariable\n",
    "#Set working directory\n",
    "osvariable.chdir(\"C:/Users/Mustafa/Desktop/datamining/Credit_card\")\n",
    "#Import numpy for array operations\n",
    "import numpy as np\n",
    "#Suppress scientific notation for numpy\n",
    "np.set_printoptions(suppress=True)\n",
    "#Import pandas\n",
    "import pandas as pd\n",
    "#Import read_csv to read in csv files\n",
    "from pandas import read_csv\n",
    "#%matplotlib inline\n",
    "%matplotlib inline\n",
    "#Import plotting library\n",
    "import matplotlib.pyplot as plt"
   ]
  },
  {
   "cell_type": "code",
   "execution_count": 39,
   "metadata": {
    "collapsed": false
   },
   "outputs": [
    {
     "name": "stdout",
     "output_type": "stream",
     "text": [
      "   ID  LIMIT_BAL  SEX  EDUCATION  MARRIAGE  AGE  PAY_0  PAY_2  PAY_3  PAY_4  \\\n",
      "0   1      20000    2          2         1   24      2      2     -1     -1   \n",
      "1   2     120000    2          2         2   26     -1      2      0      0   \n",
      "2   3      90000    2          2         2   34      0      0      0      0   \n",
      "3   4      50000    2          2         1   37      0      0      0      0   \n",
      "4   5      50000    1          2         1   57     -1      0     -1      0   \n",
      "\n",
      "              ...              BILL_AMT4  BILL_AMT5  BILL_AMT6  PAY_AMT1  \\\n",
      "0             ...                      0          0          0         0   \n",
      "1             ...                   3272       3455       3261         0   \n",
      "2             ...                  14331      14948      15549      1518   \n",
      "3             ...                  28314      28959      29547      2000   \n",
      "4             ...                  20940      19146      19131      2000   \n",
      "\n",
      "   PAY_AMT2  PAY_AMT3  PAY_AMT4  PAY_AMT5  PAY_AMT6  \\\n",
      "0       689         0         0         0         0   \n",
      "1      1000      1000      1000         0      2000   \n",
      "2      1500      1000      1000      1000      5000   \n",
      "3      2019      1200      1100      1069      1000   \n",
      "4     36681     10000      9000       689       679   \n",
      "\n",
      "   default payment next month  \n",
      "0                           1  \n",
      "1                           1  \n",
      "2                           0  \n",
      "3                           0  \n",
      "4                           0  \n",
      "\n",
      "[5 rows x 25 columns]\n"
     ]
    }
   ],
   "source": [
    "#Read the csv file into 'default_data' data frame object\n",
    "default_data = read_csv('default_of_credit_card_clients.csv')\n",
    "#Take a look at the first 5 observations\n",
    "print(default_data.head())"
   ]
  },
  {
   "cell_type": "code",
   "execution_count": 40,
   "metadata": {
    "collapsed": false
   },
   "outputs": [
    {
     "name": "stdout",
     "output_type": "stream",
     "text": [
      "(30000, 24)\n"
     ]
    }
   ],
   "source": [
    "#Set the unique observation identifier as the pandas dataframe index \n",
    "default_data = default_data.set_index(default_data['ID'])\n",
    "#Remove the identifier variable\n",
    "default_data = default_data.drop(['ID'],axis = 1)\n",
    "#Look at the shape of the data frame\n",
    "print(np.shape(default_data))"
   ]
  },
  {
   "cell_type": "code",
   "execution_count": 41,
   "metadata": {
    "collapsed": true
   },
   "outputs": [],
   "source": [
    "#Separate the response variable from the dataframe\n",
    "y = pd.DataFrame(default_data['default payment next month'],columns = ['default payment next month'],index = default_data.index.values)\n",
    "X = default_data.drop(['default payment next month'],axis = 1)\n",
    "X = X.set_index(default_data.index.values)"
   ]
  },
  {
   "cell_type": "code",
   "execution_count": 42,
   "metadata": {
    "collapsed": false
   },
   "outputs": [
    {
     "name": "stdout",
     "output_type": "stream",
     "text": [
      "number of types\n",
      "int64    24\n",
      "dtype: int64\n"
     ]
    }
   ],
   "source": [
    "#Before proceeding, we will convert all data types to numeric types\n",
    "#Take a look at the number of different data types\n",
    "print('number of types')\n",
    "print(pd.value_counts(default_data.dtypes))"
   ]
  },
  {
   "cell_type": "code",
   "execution_count": 43,
   "metadata": {
    "collapsed": false
   },
   "outputs": [
    {
     "name": "stdout",
     "output_type": "stream",
     "text": [
      "('Variable:', 'LIMIT_BAL', ' ', 81)\n",
      "('Variable:', 'SEX', ' ', 2)\n",
      "('Variable:', 'EDUCATION', ' ', 7)\n",
      "('Variable:', 'MARRIAGE', ' ', 4)\n",
      "('Variable:', 'AGE', ' ', 56)\n",
      "('Variable:', 'PAY_0', ' ', 11)\n",
      "('Variable:', 'PAY_2', ' ', 11)\n",
      "('Variable:', 'PAY_3', ' ', 11)\n",
      "('Variable:', 'PAY_4', ' ', 11)\n",
      "('Variable:', 'PAY_5', ' ', 10)\n",
      "('Variable:', 'PAY_6', ' ', 10)\n",
      "('Variable:', 'BILL_AMT1', ' ', 22723)\n",
      "('Variable:', 'BILL_AMT2', ' ', 22346)\n",
      "('Variable:', 'BILL_AMT3', ' ', 22026)\n",
      "('Variable:', 'BILL_AMT4', ' ', 21548)\n",
      "('Variable:', 'BILL_AMT5', ' ', 21010)\n",
      "('Variable:', 'BILL_AMT6', ' ', 20604)\n",
      "('Variable:', 'PAY_AMT1', ' ', 7943)\n",
      "('Variable:', 'PAY_AMT2', ' ', 7899)\n",
      "('Variable:', 'PAY_AMT3', ' ', 7518)\n",
      "('Variable:', 'PAY_AMT4', ' ', 6937)\n",
      "('Variable:', 'PAY_AMT5', ' ', 6897)\n",
      "('Variable:', 'PAY_AMT6', ' ', 6939)\n"
     ]
    }
   ],
   "source": [
    "#All types are numeric.\n",
    "#Take a look at the number of unique values for each variable\n",
    "for varname in X.columns.values:\n",
    "    print('Variable:',varname,' ',len(np.unique(X[varname])))"
   ]
  },
  {
   "cell_type": "code",
   "execution_count": 44,
   "metadata": {
    "collapsed": true
   },
   "outputs": [],
   "source": [
    "#Get the list of categorical variables and the continuous variables.\n",
    "#We will treat PAY_0, PAY_2... variables as continuous. These are history of past \n",
    "#payment. The values of these parameters represent the number of months\n",
    "#the payment was delayed. \n",
    "categorical_variables = np.array(['SEX', 'EDUCATION', 'MARRIAGE'])\n",
    "continuous_variables = [variable for variable in X.columns.values if variable not in categorical_variables]"
   ]
  },
  {
   "cell_type": "code",
   "execution_count": 45,
   "metadata": {
    "collapsed": false
   },
   "outputs": [
    {
     "name": "stdout",
     "output_type": "stream",
     "text": [
      "('SEX', Int64Index([1, 2], dtype='int64'))\n",
      "('EDUCATION', Int64Index([0, 1, 2, 3, 4, 5, 6], dtype='int64'))\n",
      "('MARRIAGE', Int64Index([0, 1, 2, 3], dtype='int64'))\n",
      "{'EDUCATION': Int64Index([0, 1, 2, 3, 4, 5, 6], dtype='int64'), 'MARRIAGE': Int64Index([0, 1, 2, 3], dtype='int64'), 'SEX': Int64Index([1, 2], dtype='int64')}\n"
     ]
    }
   ],
   "source": [
    "#Create the dictionary that will hold the categorical variable names\n",
    "#as the key and the categories as values. The order of the values\n",
    "#gives their code\n",
    "labels_dictionary = {}\n",
    "for varname in categorical_variables:\n",
    "    labels_dictionary[varname] = pd.Categorical(X[varname]).categories \n",
    "    print(varname,labels_dictionary[varname])\n",
    "    X[varname] = pd.Categorical(X[varname]).codes\n",
    "\n",
    "#Print dictionary\n",
    "print(labels_dictionary)"
   ]
  },
  {
   "cell_type": "code",
   "execution_count": 46,
   "metadata": {
    "collapsed": false
   },
   "outputs": [
    {
     "name": "stdout",
     "output_type": "stream",
     "text": [
      "Zero variance variables\n",
      "[]\n"
     ]
    }
   ],
   "source": [
    "#Drop variables whose variance is below a threshold.\n",
    "#VarianceThreshold function returns the index of variables\n",
    "#that have a variance higher than the threshold\n",
    "#The VarianceThreshold with an empty argument only keeps\n",
    "#variables with nonzero variance\n",
    "#Create the VarianceThreshold object with the threshold\n",
    "select_variance = VarianceThreshold()\n",
    "#Fit the data\n",
    "select_variance.fit(X)\n",
    "#Print the names of the variables with 0 variance\n",
    "#Use ~ sign before the boolean array to get the names \n",
    "#select_variance.fit assigns a value of True to variables with variances\n",
    "#higher than the threshold to keep them, but we want to look at the \n",
    "#names of the variables with variances below the threshold\n",
    "print('Zero variance variables')\n",
    "print(X.columns.values[~select_variance.get_support(indices = False)])"
   ]
  },
  {
   "cell_type": "code",
   "execution_count": 47,
   "metadata": {
    "collapsed": true
   },
   "outputs": [],
   "source": [
    "#Return a dataframe that only includes variables \n",
    "#with a higher than the threshold variance\n",
    "#fit_transform returns an ndarray, convert it back to \n",
    "#a dataframe. Keep the column names for the variables which will be preserved\n",
    "column_names = X.columns.values[select_variance.get_support(indices = False)]\n",
    "X = pd.DataFrame(select_variance.fit_transform(X),columns = column_names,index = default_data.index.values)"
   ]
  },
  {
   "cell_type": "code",
   "execution_count": 48,
   "metadata": {
    "collapsed": false,
    "scrolled": true
   },
   "outputs": [
    {
     "data": {
      "image/png": "[encoded data removed]",
      "text/plain": [
       "<matplotlib.figure.Figure at 0x12691978>"
      ]
     },
     "metadata": {},
     "output_type": "display_data"
    },
    {
     "data": {
      "text/plain": [
       "<matplotlib.figure.Figure at 0x126915f8>"
      ]
     },
     "metadata": {},
     "output_type": "display_data"
    }
   ],
   "source": [
    "#Get the correlation matrix in a dataframe\n",
    "correlationfactor = np.corrcoef(X.T)\n",
    "#Draw the color map for the correlation matrix to better visualize\n",
    "#highly correlated variables \n",
    "dy = 1\n",
    "dx = 1\n",
    "y_corr, x_corr = np.mgrid[slice(0, X.shape[1] + dy, dy),\n",
    "                slice(0, X.shape[1] + dx, dx)]\n",
    "correlationfactor_min, correlationfactor_max = -np.abs(correlationfactor).max(), np.abs(correlationfactor).max()\n",
    "plt.figure()\n",
    "plt.xticks(range(X.shape[1]), X.columns.values, rotation='vertical')\n",
    "plt.yticks(range(X.shape[1]), X.columns.values)\n",
    "plt.pcolor(x_corr, y_corr, np.array(correlationfactor), cmap='RdBu', vmin=correlationfactor_min, vmax=correlationfactor_max)\n",
    "plt.title('Color map for the correlation matrix')\n",
    "plt.show()\n",
    "plt.savefig('correlation_matrix')"
   ]
  },
  {
   "cell_type": "code",
   "execution_count": 49,
   "metadata": {
    "collapsed": false
   },
   "outputs": [
    {
     "name": "stdout",
     "output_type": "stream",
     "text": [
      "('High correlation:', 'BILL_AMT2', 'BILL_AMT1', ' 0.951')\n",
      "('High correlation:', 'BILL_AMT3', 'BILL_AMT2', ' 0.928')\n",
      "('High correlation:', 'BILL_AMT4', 'BILL_AMT3', ' 0.924')\n",
      "('High correlation:', 'BILL_AMT5', 'BILL_AMT4', ' 0.940')\n",
      "('High correlation:', 'BILL_AMT6', 'BILL_AMT4', ' 0.901')\n",
      "('High correlation:', 'BILL_AMT6', 'BILL_AMT5', ' 0.946')\n"
     ]
    }
   ],
   "source": [
    "correlationfactor = pd.DataFrame(np.corrcoef(X.T),columns = X.columns.values)\n",
    "#Create a set of variables which are not higly correlated\n",
    "#with at least one other variable\n",
    "#We will retain these variables\n",
    "correlation_below_threshold_set = set()\n",
    "#Set the correlation_threshold\n",
    "correlation_threshold = 0.90\n",
    "column_index = 0\n",
    "#For each variable in the dataset\n",
    "for i in range(np.shape(X)[1]):\n",
    "    #Add the variable to the set\n",
    "    correlation_below_threshold_set.add(X.columns.values[i])\n",
    "    #For each other variable in the dataset\n",
    "    column_index = column_index + 1\n",
    "    for j in range(column_index):\n",
    "        #If the variable is not the current variable, and if the \n",
    "        #correlation is higher than the threshold, discard the variable\n",
    "        #from the set        \n",
    "        if (i<>j) and (correlationfactor.iloc[i,j] > correlation_threshold):\n",
    "            print('High correlation:',correlationfactor.columns.values[i],\n",
    "                    correlationfactor.columns.values[j],' %0.03f' % correlationfactor.iloc[i,j])\n",
    "            correlation_below_threshold_set.discard(X.columns.values[i])"
   ]
  },
  {
   "cell_type": "code",
   "execution_count": 50,
   "metadata": {
    "collapsed": false
   },
   "outputs": [
    {
     "name": "stdout",
     "output_type": "stream",
     "text": [
      "set(['AGE', 'SEX', 'PAY_6', 'PAY_4', 'PAY_5', 'PAY_2', 'PAY_3', 'PAY_0', 'BILL_AMT1', 'PAY_AMT6', 'PAY_AMT5', 'PAY_AMT4', 'PAY_AMT3', 'PAY_AMT2', 'PAY_AMT1', 'LIMIT_BAL', 'MARRIAGE', 'EDUCATION'])\n"
     ]
    }
   ],
   "source": [
    "#Print the set of variables with correlation above a threshold\n",
    "print(correlation_below_threshold_set)"
   ]
  },
  {
   "cell_type": "code",
   "execution_count": 51,
   "metadata": {
    "collapsed": true
   },
   "outputs": [],
   "source": [
    "#Check the correlation of each variable with the outcome\n",
    "correlations = []  \n",
    "for i in range(np.shape(X)[1]):\n",
    "    correlations.append(np.corrcoef(X.iloc[:,i],np.ravel(y))[0,1])"
   ]
  },
  {
   "cell_type": "code",
   "execution_count": 52,
   "metadata": {
    "collapsed": false
   },
   "outputs": [
    {
     "name": "stdout",
     "output_type": "stream",
     "text": [
      "   Variable_name  Correlation\n",
      "5          PAY_0     0.324794\n",
      "6          PAY_2     0.263551\n",
      "7          PAY_3     0.235253\n",
      "8          PAY_4     0.216614\n",
      "9          PAY_5     0.204149\n",
      "10         PAY_6     0.186866\n",
      "2      EDUCATION     0.028006\n",
      "4            AGE     0.013890\n",
      "16     BILL_AMT6    -0.005372\n",
      "15     BILL_AMT5    -0.006760\n",
      "14     BILL_AMT4    -0.010156\n",
      "13     BILL_AMT3    -0.014076\n",
      "12     BILL_AMT2    -0.014193\n",
      "11     BILL_AMT1    -0.019644\n",
      "3       MARRIAGE    -0.024339\n",
      "1            SEX    -0.039961\n",
      "22      PAY_AMT6    -0.053183\n",
      "21      PAY_AMT5    -0.055124\n",
      "19      PAY_AMT3    -0.056250\n",
      "20      PAY_AMT4    -0.056827\n",
      "18      PAY_AMT2    -0.058579\n",
      "17      PAY_AMT1    -0.072929\n",
      "0      LIMIT_BAL    -0.153520\n"
     ]
    }
   ],
   "source": [
    "#Sort correlations with the outcome and print\n",
    "correlations_df = pd.DataFrame.from_items([('Variable_name',X.columns.values),('Correlation',correlations)])\n",
    "correlations_df = correlations_df.sort_values(by = 'Correlation', axis = 0, ascending = False)\n",
    "pd.DataFrame(correlations_df).to_csv('Correlations.csv',index = False)\n",
    "print(correlations_df)"
   ]
  },
  {
   "cell_type": "code",
   "execution_count": 53,
   "metadata": {
    "collapsed": false
   },
   "outputs": [
    {
     "name": "stdout",
     "output_type": "stream",
     "text": [
      "Mean difference by payment status\n",
      "('LIMIT_BAL', 't-statistic: 28.952', 'p-value 0.000')\n",
      "('AGE', 't-statistic: -2.320', 'p-value 0.020')\n",
      "('PAY_0', 't-statistic: -48.619', 'p-value 0.000')\n",
      "('PAY_2', 't-statistic: -38.695', 'p-value 0.000')\n",
      "('PAY_3', 't-statistic: -34.536', 'p-value 0.000')\n",
      "('PAY_4', 't-statistic: -31.021', 'p-value 0.000')\n",
      "('PAY_5', 't-statistic: -28.888', 'p-value 0.000')\n",
      "('PAY_6', 't-statistic: -26.702', 'p-value 0.000')\n",
      "('BILL_AMT1', 't-statistic: 3.398', 'p-value 0.001')\n",
      "('BILL_AMT2', 't-statistic: 2.447', 'p-value 0.014')\n",
      "('BILL_AMT3', 't-statistic: 2.459', 'p-value 0.014')\n",
      "('BILL_AMT4', 't-statistic: 1.759', 'p-value 0.079')\n",
      "('BILL_AMT5', 't-statistic: 1.162', 'p-value 0.245')\n",
      "('BILL_AMT6', 't-statistic: 0.930', 'p-value 0.352')\n",
      "('PAY_AMT1', 't-statistic: 17.513', 'p-value 0.000')\n",
      "('PAY_AMT2', 't-statistic: 14.817', 'p-value 0.000')\n",
      "('PAY_AMT3', 't-statistic: 11.893', 'p-value 0.000')\n",
      "('PAY_AMT4', 't-statistic: 12.222', 'p-value 0.000')\n",
      "('PAY_AMT5', 't-statistic: 11.246', 'p-value 0.000')\n",
      "('PAY_AMT6', 't-statistic: 11.058', 'p-value 0.000')\n"
     ]
    }
   ],
   "source": [
    "#Summarize age by patient status (outcome)\n",
    "#Get mean age by status\n",
    "#Perform ttest on the difference of continuous variables by response\n",
    "#and plot the histogram of continuous variables by payment status\n",
    "print('Mean difference by payment status')\n",
    "for varname in continuous_variables:\n",
    "    ttest_status_t,ttest_status_p  = stats.ttest_ind(X.loc[(np.ravel(y) == 0),[varname]],X.loc[(np.ravel(y) == 1),[varname]],equal_var = False)\n",
    "    print(varname,'t-statistic: %0.03f' % ttest_status_t,'p-value %0.03f' % ttest_status_p)\n",
    "    #Histogram of age by default status\n",
    "    plt.figure()\n",
    "    X[(np.ravel(y) == 0)][varname].hist(bins = 20, alpha = 0.5, label = 'Paid')\n",
    "    X[(np.ravel(y) == 1)][varname].hist(bins = 20, alpha = 0.5, label = 'Default')\n",
    "    plt.title(str(varname) + ' values by payment status')\n",
    "    plt.ylabel('Frequency')\n",
    "    plt.xlabel(varname)\n",
    "    plt.legend(loc = 'upper right')\n",
    "    plt.savefig(varname)\n",
    "    plt.close()"
   ]
  },
  {
   "cell_type": "code",
   "execution_count": 54,
   "metadata": {
    "collapsed": true
   },
   "outputs": [],
   "source": [
    "#For categorical variables, whose name we saved in labels_dictionary,\n",
    "#create dummy variables, remove the first dummy variable to make it the  \n",
    "#reference category and remove the original variables\n",
    "for key in labels_dictionary:\n",
    "    dummy_variables = pd.get_dummies(X[key])\n",
    "    removed_reference = False\n",
    "    for var in dummy_variables:\n",
    "        if removed_reference == False:\n",
    "            removed_reference = True\n",
    "        else:\n",
    "            #Combine the variable name with the category\n",
    "            varname = str(key) + '_' + str(labels_dictionary.get(key)[var])\n",
    "            X[varname] = dummy_variables[var]"
   ]
  },
  {
   "cell_type": "code",
   "execution_count": 55,
   "metadata": {
    "collapsed": true
   },
   "outputs": [],
   "source": [
    "#Remove the variables for which we have created dummy variables\n",
    "X = X.drop(list(labels_dictionary.keys()), axis = 1)\n",
    "#Write the dataframes that we will use in the analysis\n",
    "X.to_csv('X.csv',index = False)\n",
    "y.to_csv('y.csv',index = False)"
   ]
  }
 ],
 "metadata": {
  "kernelspec": {
   "display_name": "Python 2",
   "language": "python",
   "name": "python2"
  },
  "language_info": {
   "codemirror_mode": {
    "name": "ipython",
    "version": 2
   },
   "file_extension": ".py",
   "mimetype": "text/x-python",
   "name": "python",
   "nbconvert_exporter": "python",
   "pygments_lexer": "ipython2",
   "version": "2.7.12"
  }
 },
 "nbformat": 4,
 "nbformat_minor": 0
}
