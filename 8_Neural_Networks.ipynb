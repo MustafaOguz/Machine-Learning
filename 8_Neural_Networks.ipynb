{
 "cells": [
  {
   "cell_type": "markdown",
   "metadata": {},
   "source": [
    "# Neural Networks"
   ]
  },
  {
   "cell_type": "markdown",
   "metadata": {},
   "source": [
    "For a description of the neural networks, please see the notebook titled 'Description neural networks'. The neural network implementation that we will use here can be seen in 'neural_networks'. Before using my implementation of neural networks (based on Andrew Ng's lecture notes on neural networks, https://class.coursera.org/ml-003/lecture, accessed in June 2016) classifier, we can take a look at whether the algorithm is working correctly. First fit a neural network with a reduced number of iterations and allow derivative checking. Then plot the error term, which should decrease with successive iterations. The derivatives calculated analytically and numerically should be very close to each other. "
   ]
  },
  {
   "cell_type": "code",
   "execution_count": 73,
   "metadata": {
    "collapsed": false
   },
   "outputs": [],
   "source": [
    "classifier_nn = neural_networks.neural_network(number_of_hidden_layers = 2,learning_rate = 0.7,initial_weight_limit = 0.7,tuning_parameter = 0,iterations = 50)\n",
    "classifier_nn.fit(X_train_validation,y_train_validation,derivative_check = True)"
   ]
  },
  {
   "cell_type": "code",
   "execution_count": 74,
   "metadata": {
    "collapsed": false
   },
   "outputs": [
    {
     "name": "stdout",
     "output_type": "stream",
     "text": [
      "   analytic  numerical\n",
      "0  0.317589   0.317589\n",
      "1  0.057058   0.057058\n",
      "2  0.021691   0.021691\n",
      "3  0.011164   0.011164\n",
      "4  0.007354   0.007354\n",
      "5  0.005849   0.005849\n",
      "6  0.005201   0.005201\n",
      "7  0.004883   0.004883\n",
      "8  0.004694   0.004694\n",
      "9  0.004558   0.004558\n"
     ]
    }
   ],
   "source": [
    "print(classifier_nn.derivative_compare.head(10))"
   ]
  },
  {
   "cell_type": "code",
   "execution_count": 75,
   "metadata": {
    "collapsed": false
   },
   "outputs": [
    {
     "data": {
      "text/plain": [
       "(0, 51)"
      ]
     },
     "execution_count": 75,
     "metadata": {},
     "output_type": "execute_result"
    },
    {
     "data": {
      "image/png": "[encoded data removed]",
      "text/plain": [
       "<matplotlib.figure.Figure at 0x13c210b8>"
      ]
     },
     "metadata": {},
     "output_type": "display_data"
    }
   ],
   "source": [
    "#Plot the error\n",
    "plt.figure()\n",
    "plt.scatter(xrange(len(classifier_nn.get_error_list())),classifier_nn.get_error_list())\n",
    "plt.xlim(0,len(classifier_nn.get_error_list()) + 1)"
   ]
  },
  {
   "cell_type": "markdown",
   "metadata": {},
   "source": [
    "The graph shows that the algorithm reduces the error with each iteration. The error term drops sharply after the first iteration, followed by a gradual but continuous decline. The 'analytic' and 'numerical' derivative calculations are the same, indicating that the derivative is being calculated correctly. The neural network notebook in the Machine Learning directory includes the code that generates the numerical derivative and the calculation of the derivative analytically. When we run the neural network algorithm, we will use more iterations to better fit the data and turn off the numerical derivative calculation, because it increases the calculation time."
   ]
  },
  {
   "cell_type": "code",
   "execution_count": 76,
   "metadata": {
    "collapsed": false
   },
   "outputs": [],
   "source": [
    "classifier_nn = neural_networks.neural_network(initial_weight_limit = 0.7,tuning_parameter = 0,iterations = 500)\n",
    "#We can now test different numbers of layers and learning rates for the neural network. \n",
    "#We will set the number of iterations to 500 to find the optimal hyper-parameter values.\n",
    "hyper_parameters_nn = [{'number_of_hidden_layers':[1,2,3],'learning_rate':[0.3,0.7],'tuning_parameter': [0,0.1]}]"
   ]
  },
  {
   "cell_type": "code",
   "execution_count": 77,
   "metadata": {
    "collapsed": false
   },
   "outputs": [
    {
     "name": "stdout",
     "output_type": "stream",
     "text": [
      "-2628.542 (+/-121.285) for {'learning_rate': 0.3, 'number_of_hidden_layers': 1, 'tuning_parameter': 0}\n",
      "-2617.083 (+/-121.837) for {'learning_rate': 0.3, 'number_of_hidden_layers': 1, 'tuning_parameter': 0.1}\n",
      "-2745.625 (+/-135.030) for {'learning_rate': 0.3, 'number_of_hidden_layers': 2, 'tuning_parameter': 0}\n",
      "-2702.917 (+/-123.780) for {'learning_rate': 0.3, 'number_of_hidden_layers': 2, 'tuning_parameter': 0.1}\n",
      "-3311.875 (+/-1.230) for {'learning_rate': 0.3, 'number_of_hidden_layers': 3, 'tuning_parameter': 0}\n",
      "-3311.875 (+/-1.230) for {'learning_rate': 0.3, 'number_of_hidden_layers': 3, 'tuning_parameter': 0.1}\n",
      "-2463.333 (+/-136.910) for {'learning_rate': 0.7, 'number_of_hidden_layers': 1, 'tuning_parameter': 0}\n",
      "-2465.417 (+/-138.525) for {'learning_rate': 0.7, 'number_of_hidden_layers': 1, 'tuning_parameter': 0.1}\n",
      "-2415.625 (+/-95.995) for {'learning_rate': 0.7, 'number_of_hidden_layers': 2, 'tuning_parameter': 0}\n",
      "-2400.833 (+/-114.981) for {'learning_rate': 0.7, 'number_of_hidden_layers': 2, 'tuning_parameter': 0.1}\n",
      "-2541.042 (+/-113.145) for {'learning_rate': 0.7, 'number_of_hidden_layers': 3, 'tuning_parameter': 0}\n",
      "-2491.250 (+/-106.812) for {'learning_rate': 0.7, 'number_of_hidden_layers': 3, 'tuning_parameter': 0.1}\n",
      "({'learning_rate': 0.7, 'number_of_hidden_layers': 2, 'tuning_parameter': 0.1}, 'max score', 0)\n"
     ]
    }
   ],
   "source": [
    "grid = GridSearchCV(classifier_nn,hyper_parameters_nn,cv = 3, scoring = score_cost,refit = True)\n",
    "grid.fit(X_train_validation,y_train_validation)\n",
    "\n",
    "max_score = 0\n",
    "#Print the scores from the iterations and the parameter\n",
    "#values that give the best result\n",
    "for params, mean_score, scores in grid.grid_scores_:\n",
    "    print('%0.3f (+/-%0.03f) for %r' % (mean_score, scores.std() * 2, params))\n",
    "    if mean_score > max_score:\n",
    "        max_score = mean_score\n",
    "print(grid.best_params_,'max score',max_score)"
   ]
  },
  {
   "cell_type": "markdown",
   "metadata": {},
   "source": [
    "The initial analysis suggests that 2 hidden layers, a learning rate of 0.7 and tuning parameter value of 0.1 is appropriate. We can repeat the fit with more iterations."
   ]
  },
  {
   "cell_type": "code",
   "execution_count": 78,
   "metadata": {
    "collapsed": true
   },
   "outputs": [],
   "source": [
    "classifier_nn = neural_networks.neural_network(number_of_hidden_layers = 2, learning_rate = 0.7, initial_weight_limit = 0.7,tuning_parameter = 0.1,iterations = 6000)\n",
    "classifier_nn.fit(X_train_validation,y_train_validation,derivative_check = False)"
   ]
  },
  {
   "cell_type": "code",
   "execution_count": 79,
   "metadata": {
    "collapsed": false
   },
   "outputs": [
    {
     "data": {
      "text/plain": [
       "LogisticRegression(C=1.0, class_weight=None, dual=False, fit_intercept=True,\n",
       "          intercept_scaling=1, max_iter=100, multi_class='ovr', n_jobs=1,\n",
       "          penalty='l2', random_state=None, solver='liblinear', tol=0.0001,\n",
       "          verbose=0, warm_start=False)"
      ]
     },
     "execution_count": 79,
     "metadata": {},
     "output_type": "execute_result"
    }
   ],
   "source": [
    "#Use the model on the test set and get uncalibrated probabilities\n",
    "probabilities_test = classifier_nn.predict_proba(X_test)\n",
    "#Get training probabilities for probability calibration\n",
    "probabilities_train = classifier_nn.predict_proba(X_train_validation)\n",
    "#Calibrate probabilities with isotonic regression\n",
    "ir.fit(probabilities_train,y_train_validation)                          \n",
    "#Calibrate probabilities with platt's method\n",
    "lr.fit(probabilities_train.reshape( -1, 1 ),y_train_validation) "
   ]
  },
  {
   "cell_type": "code",
   "execution_count": 80,
   "metadata": {
    "collapsed": false
   },
   "outputs": [
    {
     "data": {
      "text/plain": [
       "[<matplotlib.lines.Line2D at 0x11f14e80>]"
      ]
     },
     "execution_count": 80,
     "metadata": {},
     "output_type": "execute_result"
    },
    {
     "data": {
      "image/png": "[encoded data removed]",
      "text/plain": [
       "<matplotlib.figure.Figure at 0x13c21ac8>"
      ]
     },
     "metadata": {},
     "output_type": "display_data"
    }
   ],
   "source": [
    "#Use the model on the test set and get uncalibrated probabilities\n",
    "mean_fpr = np.linspace(0, 1, 100)\n",
    "fpr, tpr, thresholds = roc_curve(y_test, probabilities_test)\n",
    "roc_auc = auc(fpr, tpr)\n",
    "plt.figure(14)    \n",
    "plt.plot(fpr, tpr, lw=1, label='ROC (area = %0.3f)' % (roc_auc))\n",
    "plt.title('Neural Network')\n",
    "plt.xlim([0, 1])\n",
    "plt.ylim([0, 1])\n",
    "plt.xlabel('False Positive Rate')\n",
    "plt.ylabel('True Positive Rate')\n",
    "plt.legend(loc=\"lower right\")\n",
    "plt.plot([0, 1], [0, 1], '--', color=(0.6, 0.6, 0.6), label='Luck')"
   ]
  },
  {
   "cell_type": "code",
   "execution_count": 81,
   "metadata": {
    "collapsed": true
   },
   "outputs": [],
   "source": [
    "#Use the cost sensitive threshold to predict the outcome\n",
    "predictions_test_cost = [0 if x < threshold_cost else 1 for x in probabilities_test]\n",
    "#Use the 50% threshold to predict the outcome\n",
    "predictions_test_50 = [0 if x < threshold_05 else 1 for x in probabilities_test]\n",
    "#Calibrate the probabilities by isotonic regression \n",
    "probas_calibrated_isotonic = ir.transform(probabilities_test)\n",
    "#Use the cost sensitive threshold to predict the outcome\n",
    "predictions_test_calibrated_isotonic_cost = [0 if x < threshold_cost else 1 for x in probas_calibrated_isotonic]\n",
    "#Use the 50% threshold to predict the outcome\n",
    "predictions_test_calibrated_isotonic_50 = [0 if x < threshold_05 else 1 for x in probas_calibrated_isotonic]\n",
    "#Calibrate the probabilities by isotonic regression \n",
    "probas_calibrated_platt = lr.predict_proba(probabilities_test.reshape( -1, 1 ))[:,1]\n",
    "#Use the cost sensitive threshold to predict the outcome\n",
    "predictions_test_calibrated_platts_cost = [0 if x < threshold_cost else 1 for x in probas_calibrated_platt]\n",
    "#Use the 50% threshold to predict the outcome\n",
    "predictions_test_calibrated_platts_50 = [0 if x < threshold_05 else 1 for x in probas_calibrated_platt]"
   ]
  },
  {
   "cell_type": "code",
   "execution_count": 82,
   "metadata": {
    "collapsed": false
   },
   "outputs": [
    {
     "name": "stdout",
     "output_type": "stream",
     "text": [
      "Uncalibrated probabilities, cost sensitive threshold: 2057 \n",
      "             precision    recall  f1-score   support\n",
      "\n",
      "        Pay       0.87      0.84      0.86      4663\n",
      "    Default       0.51      0.57      0.54      1337\n",
      "\n",
      "avg / total       0.79      0.78      0.79      6000\n",
      "\n",
      "Uncalibrated probabilities, 50pct threshold: 2345 \n",
      "             precision    recall  f1-score   support\n",
      "\n",
      "        Pay       0.84      0.95      0.89      4663\n",
      "    Default       0.67      0.36      0.47      1337\n",
      "\n",
      "avg / total       0.80      0.82      0.80      6000\n",
      "\n",
      "Isotonic calibrated probabilities, cost sensitive threshold: 2067 \n",
      "             precision    recall  f1-score   support\n",
      "\n",
      "        Pay       0.88      0.81      0.84      4663\n",
      "    Default       0.48      0.60      0.53      1337\n",
      "\n",
      "avg / total       0.79      0.77      0.77      6000\n",
      "\n",
      "Isotonic calibrated probabilities, 50pct threshold: 2351 \n",
      "             precision    recall  f1-score   support\n",
      "\n",
      "        Pay       0.84      0.95      0.89      4663\n",
      "    Default       0.68      0.35      0.46      1337\n",
      "\n",
      "avg / total       0.80      0.82      0.80      6000\n",
      "\n",
      "Platts calibrated probabilities, cost sensitive threshold: 2105 \n",
      "             precision    recall  f1-score   support\n",
      "\n",
      "        Pay       0.86      0.87      0.87      4663\n",
      "    Default       0.54      0.52      0.53      1337\n",
      "\n",
      "avg / total       0.79      0.79      0.79      6000\n",
      "\n",
      "Platts calibrated probabilities, 50pct threshold: 2345 \n",
      "             precision    recall  f1-score   support\n",
      "\n",
      "        Pay       0.84      0.95      0.89      4663\n",
      "    Default       0.67      0.36      0.47      1337\n",
      "\n",
      "avg / total       0.80      0.82      0.80      6000\n",
      "\n",
      "Dummy classifier: 3342 \n",
      "             precision    recall  f1-score   support\n",
      "\n",
      "        Pay       0.78      1.00      0.87      4663\n",
      "    Default       0.00      0.00      0.00      1337\n",
      "\n",
      "avg / total       0.60      0.78      0.68      6000\n",
      "\n"
     ]
    }
   ],
   "source": [
    "#Print the expected cost and the classification report for uncalibrated probabilities, \n",
    "#isotonic calibrated probabilities and platts calibrated probabilities\n",
    "#with cost-sensitive threshold and 50% threshold\n",
    "print('Uncalibrated probabilities, cost sensitive threshold: %i ' % expected_cost(y_test, predictions_test_cost))\n",
    "print(classification_report(y_test, predictions_test_cost,target_names = ['Pay','Default']))\n",
    "print('Uncalibrated probabilities, 50pct threshold: %i ' % expected_cost(y_test, predictions_test_50))\n",
    "print(classification_report(y_test, predictions_test_50,target_names = ['Pay','Default']))\n",
    "print('Isotonic calibrated probabilities, cost sensitive threshold: %i ' % expected_cost(y_test, predictions_test_calibrated_isotonic_cost))\n",
    "print(classification_report(y_test, predictions_test_calibrated_isotonic_cost,target_names = ['Pay','Default']))\n",
    "print('Isotonic calibrated probabilities, 50pct threshold: %i ' % expected_cost(y_test, predictions_test_calibrated_isotonic_50))\n",
    "print(classification_report(y_test, predictions_test_calibrated_isotonic_50,target_names = ['Pay','Default']))\n",
    "print('Platts calibrated probabilities, cost sensitive threshold: %i ' % expected_cost(y_test, predictions_test_calibrated_platts_cost))\n",
    "print(classification_report(y_test, predictions_test_calibrated_platts_cost,target_names = ['Pay','Default']))\n",
    "print('Platts calibrated probabilities, 50pct threshold: %i ' % expected_cost(y_test, predictions_test_calibrated_platts_50))\n",
    "print(classification_report(y_test, predictions_test_calibrated_platts_50,target_names = ['Pay','Default']))\n",
    "print('Dummy classifier: %i ' % expected_cost(y_test, clf_predictions))\n",
    "print(classification_report(y_test, clf_predictions,target_names = ['Pay','Default']))"
   ]
  },
  {
   "cell_type": "markdown",
   "metadata": {},
   "source": [
    "Neural networks provided the best fit among the other classifiers. It has the lowest cost outcome and a slightly higher area under the curve value."
   ]
  }
 ],
 "metadata": {
  "kernelspec": {
   "display_name": "Python 2",
   "language": "python",
   "name": "python2"
  },
  "language_info": {
   "codemirror_mode": {
    "name": "ipython",
    "version": 2
   },
   "file_extension": ".py",
   "mimetype": "text/x-python",
   "name": "python",
   "nbconvert_exporter": "python",
   "pygments_lexer": "ipython2",
   "version": "2.7.12"
  }
 },
 "nbformat": 4,
 "nbformat_minor": 1
}
